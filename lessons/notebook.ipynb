{
 "cells": [
  {
   "cell_type": "markdown",
   "metadata": {},
   "source": [
    "# Demo Jupiter Notebook\n",
    "\n",
    "This notebook will exemplify **some** of the common use cases in Python Jupiter Notebooks."
   ]
  },
  {
   "cell_type": "code",
   "execution_count": 6,
   "metadata": {},
   "outputs": [
    {
     "name": "stdout",
     "output_type": "stream",
     "text": [
      "Hello, Kris\n"
     ]
    }
   ],
   "source": [
    "name: str = \"Kris\"\n",
    "print(f\"Hello, {name}\")"
   ]
  },
  {
   "cell_type": "markdown",
   "metadata": {},
   "source": [
    "## Formatting Markdown Notes\n",
    "\n",
    "* You can have lists\n",
    "* You can have [links - such as to Markdown Cheat Sheet](https://www.markdownguide.org/cheat-sheet/)"
   ]
  },
  {
   "cell_type": "markdown",
   "metadata": {},
   "source": [
    "print(f\"Another reference to {name} made in this cell.\")"
   ]
  },
  {
   "cell_type": "markdown",
   "metadata": {},
   "source": [
    "## Useful Keyboard Shortcuts\n",
    "1. 'Control+Enter' Execute a cell and leave the focus/ cursor in that cell\n",
    "2. 'Shift+Eenter' Execute a cell and move to the next cell (or create a new cell at the end)"
   ]
  },
  {
   "cell_type": "code",
   "execution_count": 9,
   "metadata": {},
   "outputs": [
    {
     "name": "stdout",
     "output_type": "stream",
     "text": [
      "Some important computation...\n",
      "1110.0\n"
     ]
    }
   ],
   "source": [
    "print(\"Some important computation...\")\n",
    "total: float = 110.0 + 1000.0\n",
    "print(total)"
   ]
  },
  {
   "cell_type": "markdown",
   "metadata": {},
   "source": [
    "## Expressions written as the last line of a cell are automatically output\n",
    "\n",
    "This is very handy for not needing to call the 'print' function at the end of every cell."
   ]
  },
  {
   "cell_type": "markdown",
   "metadata": {},
   "source": [
    "## Example of Importing a Module"
   ]
  },
  {
   "cell_type": "code",
   "execution_count": 16,
   "metadata": {},
   "outputs": [
    {
     "ename": "ModuleNotFoundError",
     "evalue": "No module named 'lessons'",
     "output_type": "error",
     "traceback": [
      "\u001b[0;31m---------------------------------------------------------------------------\u001b[0m",
      "\u001b[0;31mModuleNotFoundError\u001b[0m                       Traceback (most recent call last)",
      "\u001b[1;32m/Users/gabriellynolasco/comp110-22s-workspace/lessons/notebook.ipynb Cell 9'\u001b[0m in \u001b[0;36m<module>\u001b[0;34m\u001b[0m\n\u001b[1;32m      <a href='vscode-notebook-cell:/Users/gabriellynolasco/comp110-22s-workspace/lessons/notebook.ipynb#ch0000013?line=0'>1</a>\u001b[0m \u001b[39mimport\u001b[39;00m \u001b[39mnotebook_helpers\u001b[39;00m\n\u001b[0;32m----> <a href='vscode-notebook-cell:/Users/gabriellynolasco/comp110-22s-workspace/lessons/notebook.ipynb#ch0000013?line=1'>2</a>\u001b[0m \u001b[39mfrom\u001b[39;00m \u001b[39mlessons\u001b[39;00m\u001b[39m.\u001b[39;00m\u001b[39mnotebook_helpers\u001b[39;00m \u001b[39mimport\u001b[39;00m add_two_ints\n",
      "\u001b[0;31mModuleNotFoundError\u001b[0m: No module named 'lessons'"
     ]
    }
   ],
   "source": [
    "import notebook_helpers\n",
    "from notebook_helpers import add_two_ints\n",
    "notebook_helpers.add_two_ints(1, 20)\n"
   ]
  }
 ],
 "metadata": {
  "interpreter": {
   "hash": "aee8b7b246df8f9039afb4144a1f6fd8d2ca17a180786b69acc140d282b71a49"
  },
  "kernelspec": {
   "display_name": "Python 3.10.1 64-bit",
   "language": "python",
   "name": "python3"
  },
  "language_info": {
   "codemirror_mode": {
    "name": "ipython",
    "version": 3
   },
   "file_extension": ".py",
   "mimetype": "text/x-python",
   "name": "python",
   "nbconvert_exporter": "python",
   "pygments_lexer": "ipython3",
   "version": "3.10.1"
  },
  "orig_nbformat": 4
 },
 "nbformat": 4,
 "nbformat_minor": 2
}
